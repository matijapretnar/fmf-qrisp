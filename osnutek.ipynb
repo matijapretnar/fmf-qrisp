{
 "cells": [
  {
   "cell_type": "markdown",
   "id": "38019d39",
   "metadata": {},
   "source": [
    "# Qrisp"
   ]
  },
  {
   "cell_type": "code",
   "execution_count": null,
   "id": "81b7e29f",
   "metadata": {},
   "outputs": [
    {
     "name": "stderr",
     "output_type": "stream",
     "text": [
      "/Users/matija/.venv/fmf-qrisp/lib/python3.9/site-packages/urllib3/__init__.py:35: NotOpenSSLWarning: urllib3 v2 only supports OpenSSL 1.1.1+, currently the 'ssl' module is compiled with 'LibreSSL 2.8.3'. See: https://github.com/urllib3/urllib3/issues/3020\n",
      "  warnings.warn(\n"
     ]
    }
   ],
   "source": [
    "import qrisp"
   ]
  },
  {
   "cell_type": "markdown",
   "id": "1ca8cb67",
   "metadata": {},
   "source": [
    "## Sreda: Uvod v Qrisp\n",
    "\n",
    "<!-- - (5 min) zgodovina prehoda klasičnega računalništva od pretikanja kablov do danes, vzporednice s trenutnim stanjem kvantnih računalnikov\n",
    "- (10 min) odprejo online Jupyter z nameščenim Qrispom in poženejo testni primer\n",
    "- osnovni koraki v Qrispu, zapis vezij prek spremenljivk in funkcij, meritve, …\n",
    "- Qrisp preizkusijo na vezjih, ki so jih do sedaj videli na šoli ter to primerjajo s pisanjem/risanjem v Qiskitu\n",
    "- prikaz dodatnih kvantnih tipov (`QuantumBool`, `QuantumFloat`, …), operacij na njih, ter izračunanih vezij\n",
    "- v Qrispu pišejo svoje račune in kratke programe ter gledajo, kakšna vezja dobijo\n",
    "- pisanje kvantnih funkcij in samodejno dodajanje ancile, razračunanja, …\n",
    "- pišejo svoje funkcije, simulirajo rezultate, in opazujejo ustvarjena vezja\n",
    "- skupaj napišemo svoj lastni kvantni tip, npr. vržemo dve kvantni kocki in dobimo superpozicijo možnih vsot, pri obratu faze pa se nekateri izničijo -->"
   ]
  },
  {
   "cell_type": "markdown",
   "id": "990c71ca",
   "metadata": {},
   "source": [
    "### Zgodovina prehoda klasičnega računalništva od pretikanja kablov do danes, vzporednice s trenutnim stanjem kvantnih računalnikov\n",
    "\n",
    "V novicah se pogosto pojavljajo novice o rekordnih številih kubitov tehnoloških gigantov tipa [Google](https://blog.google/technology/research/google-willow-quantum-chip/), [IBM](https://www.ibm.com/roadmaps/quantum/), [Microsoft](https://news.microsoft.com/azure-quantum/), [Amazon](https://www.amazon.science/blog/amazon-announces-ocelot-quantum-chip), etc. Bistveno manj govora (če sploh) je namenjenega t.i. \"software engineering tools\", ki so prav tako ključnega pomena, kot klasični programerski jeziki, za eksekucijo \n",
    "\n",
    "Kako prevesti algoritme v jezik, ki ga kvantni računalnik sprejme, da izvrši račun ter, kako interpretiramo rezultat meritev? Kako lahko programiramo kvantni računalnik?\n",
    "\n",
    "Do nedavnega je bil splošni konsenz, da se to počne z direktno manipulacijo kubitov prek dodajanja različnih vrat v kvantno vezje. Pri preprostih algoritmih, ki se jih lahko poganja z današnjimi [NISQ](https://en.wikipedia.org/wiki/Noisy_intermediate-scale_quantum_era) kvantni računalniki kvantna vezja ne predstavljajo prevelikega problema. Vendar kaj se zgodi, ko uporabnik želi več kubitov? Podobno vprašanje kot za širino vezij lahko postavimo tudi za globino vezij. Kako težko je voditi evidenco dodatnih t.i. \"ancillary\" qubits potrebnih za določene algoritemske primitive? \n",
    "\n",
    "Izkaže se, da precej. Dober dokaz je [kvantni backtracking algoritem](https://arxiv.org/pdf/2402.10060).\n",
    "\n",
    "![Prepleteni kubiti](slikovna_gradiva/wire_chaos.png)\n",
    "\n",
    "Sestavljanje vezij je neizbežno iz vidika učenja prvih principov kvantnega računalništva. Orodja kot so [Quirk](https://algassert.com/quirk#circuit={%22cols%22:[]}) nudijo možnost vizualizacije različnih aspektov (faza, usmeritev na Blochovi sferi, etc.), vendar počepnejo, ko se poskuša implementirati, kot tudi analizirati zahtevnejše, kompleksnejše, in \"resource heavy\" algoritme z vezji bistveno večjih globin in širin.\n",
    "\n",
    "Podoben preskok kot preskok iz assemblerja v uporabniku prijaznejše programske jezike (povprašajte starejše po predavalnici), ponuja Qrisp, s katerim se ne osredotočamo zgolj na direktno manipulacijo kubitov v sklopu kvantnih vezij, temveč skrijemo kubite in manipulacijo le-teh za višjenivojske abstrakcije, ki omogočijo programiranje v sklopu spremenljivk in funkcij.\n",
    "\n",
    "![Drake](slikovna_gradiva/qrisp_drake.png)"
   ]
  },
  {
   "cell_type": "markdown",
   "id": "f69e0934",
   "metadata": {},
   "source": [
    "![Qrisp logo](slikovna_gradiva/logo_extended.png)\n",
    "\n",
    "Qrisp je odprtokodni visokonivojski kvantni programski jezik za programiranje kvantnih računalnikov. Zaradi drugačnega pristopa h kreiranju vezij in direktnih vzporednic konceptov v klasičnem programiranju - Qrisp uvaja abstrakcije, ki omogočajo pisanje kvantnih programov z uporabo konceptov, znanih iz klasičnega programiranja, kot so spremenljivke, zanke, pogojniki in funkcije. Zaradi tega so izhodna vezja učinkovitejša ter koda modularna, kar omogoča sodelovanje večih programerjev brez potrebnega usklajevanja.\n",
    "\n",
    "![prepisovanje dveh kompozicij](slikovna_gradiva/analogija_z_glasbo.png)"
   ]
  },
  {
   "cell_type": "markdown",
   "id": "2b53fd8e",
   "metadata": {},
   "source": [
    "### Kvantne spremenljivke: [QuantumVariable](https://www.qrisp.eu/reference/Core/QuantumVariable.html)"
   ]
  },
  {
   "cell_type": "markdown",
   "id": "bfbb1cd8",
   "metadata": {},
   "source": [
    "QuantumVariable je kvantni ekvivalent klasični spremenljivki. Predstavlja register skupaj združenih kubitov, kar olajša življenje (morda ne na prvi pogled prek preprostih primerov) pri implementaciji algoritmov - skriva zapletenost upravljanja kubitov.\n",
    "\n",
    "Je osnoven kvantni tip višje ravni v Qrispu - preostali kvantni tipi, nekatere srečamo kaj kmalu (QuantumFloat, QuantumBool), dedujejo iz QuantumVariable.\n",
    "\n",
    "Kar začnimo z deklaracijo [kvantne spremenljivke](https://www.qrisp.eu/reference/Core/QuantumVariable.html) s štirimi kubiti."
   ]
  },
  {
   "cell_type": "code",
   "execution_count": null,
   "id": "a350cc62",
   "metadata": {},
   "outputs": [],
   "source": [
    "from qrisp import QuantumVariable\n",
    "\n",
    "alica = QuantumVariable(4, name=\"alica\")"
   ]
  },
  {
   "cell_type": "markdown",
   "id": "03a64b90",
   "metadata": {},
   "source": [
    "Z `name=\"alica\"` smo deklarirano kvantno spremenljivko tudi poimenovali zavoljo lažje predstave tega dotičnega registra kubitov. "
   ]
  },
  {
   "cell_type": "code",
   "execution_count": null,
   "id": "afd089d5",
   "metadata": {},
   "outputs": [],
   "source": [
    "print(alica)"
   ]
  },
  {
   "cell_type": "code",
   "execution_count": null,
   "id": "d64b8366",
   "metadata": {},
   "outputs": [],
   "source": [
    "print(alica.size)"
   ]
  },
  {
   "cell_type": "markdown",
   "id": "f1461381",
   "metadata": {},
   "source": [
    "Kvantno vezje lahko vselej izrišemo s klicom metode `.qs` - [QuantumSession](https://www.qrisp.eu/reference/Core/QuantumSession.html), v katerem se vodi evidenco do sedaj izvedenih operacij z ozirom na kvantno vezje."
   ]
  },
  {
   "cell_type": "code",
   "execution_count": null,
   "id": "eec67234",
   "metadata": {},
   "outputs": [],
   "source": [
    "print(alica.qs)"
   ]
  },
  {
   "cell_type": "markdown",
   "id": "39607f00",
   "metadata": {},
   "source": [
    "Znotraj kvantne spremenljivke lahko dostopamo tudi do posamičnih kubitov preko operacije oglatega oklepaja."
   ]
  },
  {
   "cell_type": "code",
   "execution_count": null,
   "id": "0ec19442",
   "metadata": {},
   "outputs": [],
   "source": [
    "prvi_kubit = alica[0]\n",
    "zadnja_dva = alica[:2]"
   ]
  },
  {
   "cell_type": "markdown",
   "id": "5b857fbe",
   "metadata": {},
   "source": [
    "#### Kvantna vrata"
   ]
  },
  {
   "cell_type": "markdown",
   "id": "311e56f1",
   "metadata": {},
   "source": [
    "Tekom šole ste se že seznanili  z različnimi kvantnimi vrati, kot so recimo x - not, h - Hadamard ter cx - kontroliran not (CNOT).\n",
    "\n",
    "Ta vrata, kot tudi [obilica drugih](https://www.qrisp.eu/reference/Circuit%20Manipulation/QuantumCircuit.html#operation-application-methods) lahko enostavno apliciramo na kvantno spremenljivko."
   ]
  },
  {
   "cell_type": "code",
   "execution_count": null,
   "id": "3398db75",
   "metadata": {},
   "outputs": [],
   "source": [
    "from qrisp import x, h, cx\n",
    "\n",
    "x(prvi_kubit)\n",
    "h(alica[1])\n",
    "cx(zadnja_dva)"
   ]
  },
  {
   "cell_type": "markdown",
   "id": "a6f0cb7f",
   "metadata": {},
   "source": [
    "Izvedene operacije lahko, tako kot prej, vizualiziramo s printom `.qs`."
   ]
  },
  {
   "cell_type": "code",
   "execution_count": null,
   "id": "d279fbe0",
   "metadata": {},
   "outputs": [],
   "source": [
    "print(alica.qs)"
   ]
  },
  {
   "cell_type": "markdown",
   "id": "7cbde18b",
   "metadata": {},
   "source": [
    "Izpišemo lahko tudi t.i. [statevector](https://www.qrisp.eu/reference/Core/generated/qrisp.QuantumSession.statevector.html#qrisp.QuantumSession.statevector) (vektor stanja?)."
   ]
  },
  {
   "cell_type": "code",
   "execution_count": null,
   "id": "415f9ef1",
   "metadata": {},
   "outputs": [],
   "source": [
    "print(alica.qs.statevector)"
   ]
  },
  {
   "cell_type": "markdown",
   "id": "9eeebf39",
   "metadata": {},
   "source": [
    "Preizkusimo naučene koncepte na malo bolj \"uporabnem\" primeru priprave t.i. [GHZ stanja](https://en.wikipedia.org/wiki/Greenberger%E2%80%93Horne%E2%80%93Zeilinger_state), ki priravi stanje bodisi samih ničel, bodisi samih enic.\n",
    "\n",
    "![analogija s kovanci](slikovna_gradiva/GHZ_kovanci.png)\n",
    "\n",
    "V primeru kvantne spremenljivke s tremi kubiti bi takšno GHZ stanje izgledalo nekako takole:$$GHZ_3=\\frac{1}{\\sqrt2}(\\ket{000}+\\ket{111}),$$\n",
    "\n",
    "kjer indeks 3 sugerira število kubitov. \n",
    "\n",
    "Imate kakšno idejo kako bi se tega lotili zgolj z že omenjenimi kvantnimi vrati?\n",
    "\n",
    "![malo kasneje](slikovna_gradiva/malo_kasneje.png)"
   ]
  },
  {
   "cell_type": "markdown",
   "id": "67761951",
   "metadata": {},
   "source": [
    "qv = QuantumVariable(3)\n",
    "\n",
    "def GHZ(qv):\n",
    "    h(qv[0])\n",
    "    for i in range (1, qv.size)\n",
    "        cx(qv[0], qv[i])"
   ]
  },
  {
   "cell_type": "markdown",
   "id": "e1961696",
   "metadata": {},
   "source": [
    "Komentar..."
   ]
  },
  {
   "cell_type": "code",
   "execution_count": null,
   "id": "ed7128f4",
   "metadata": {},
   "outputs": [],
   "source": [
    "GHZ = GHZ(qv)\n",
    "print(qv)"
   ]
  },
  {
   "cell_type": "markdown",
   "id": "d121f88e",
   "metadata": {},
   "source": []
  },
  {
   "cell_type": "code",
   "execution_count": null,
   "id": "12df2566",
   "metadata": {},
   "outputs": [],
   "source": [
    "print(qv.qs)"
   ]
  },
  {
   "cell_type": "markdown",
   "id": "c84702fe",
   "metadata": {},
   "source": []
  },
  {
   "cell_type": "code",
   "execution_count": null,
   "id": "5c578d30",
   "metadata": {},
   "outputs": [],
   "source": [
    "print(qv.qs.statevector())\n",
    "print(qv.qs.depth())\n",
    "print(qv.qs.cnot_count())"
   ]
  },
  {
   "cell_type": "markdown",
   "id": "69af3dac",
   "metadata": {},
   "source": []
  },
  {
   "cell_type": "markdown",
   "id": "247b5e54",
   "metadata": {},
   "source": [
    "### Kvantni tipi: [QuantumFloat](https://www.qrisp.eu/reference/Quantum%20Types/QuantumFloat.html)\n",
    "binarni zapis števil - callback"
   ]
  },
  {
   "cell_type": "markdown",
   "id": "cd762e78",
   "metadata": {},
   "source": [
    "#### Računanje s kvantnimi floati - [prefix aritmetika](https://www.qrisp.eu/reference/Primitives/Prefix%20arithmetic.html)"
   ]
  },
  {
   "cell_type": "markdown",
   "id": "e9b89ae0",
   "metadata": {},
   "source": [
    "##### superpozicija 101"
   ]
  },
  {
   "cell_type": "markdown",
   "id": "541be8a8",
   "metadata": {},
   "source": []
  },
  {
   "cell_type": "markdown",
   "id": "81e883af",
   "metadata": {},
   "source": [
    "#### racunanje 2+superpozicija(3, 5)"
   ]
  },
  {
   "cell_type": "markdown",
   "id": "b14dc167",
   "metadata": {},
   "source": [
    "### Kvantni tipi: [QuantumBool](https://www.qrisp.eu/reference/Quantum%20Types/QuantumBool.html#quantumbool) "
   ]
  },
  {
   "cell_type": "markdown",
   "id": "605be304",
   "metadata": {},
   "source": [
    "#### Logični & in logični ^"
   ]
  },
  {
   "cell_type": "markdown",
   "id": "49993e29",
   "metadata": {},
   "source": [
    "#### Primerjava s kvantnimi floati"
   ]
  },
  {
   "cell_type": "markdown",
   "id": "121a5964",
   "metadata": {},
   "source": [
    "### Avtomatsko kvantno [\"odračunanje\"](https://www.qrisp.eu/reference/Core/Uncomputation.html)"
   ]
  },
  {
   "cell_type": "markdown",
   "id": "0fdeb2d2",
   "metadata": {},
   "source": [
    "### Kvantne funkcije"
   ]
  },
  {
   "cell_type": "markdown",
   "id": "cff2b8f5",
   "metadata": {},
   "source": [
    "#### QPE (v četrtek?)"
   ]
  },
  {
   "cell_type": "markdown",
   "id": "a9d005c8",
   "metadata": {},
   "source": [
    "#### Shor (v četrtek)\n",
    "Daste mi številko in jaz bom to čarobno faktoriziral"
   ]
  },
  {
   "cell_type": "markdown",
   "id": "474d1d1c",
   "metadata": {},
   "source": [
    "## Četrtek: Deutsch-Jozsev algoritem\n",
    "\n",
    "<!-- - motivacija Deutsch-Jozsevega problema prek igrice, kjer poskušajo s čim manj vprašanji ugotoviti, kakšne vrste število sem si izmislil\n",
    "- dopolnijo predlogo klasično rešitve v Pythonu ter v njej preizkušajo različne funkcije (konstantno, levi-desni biti, sodi-lihi biti, …)\n",
    "- prepis klasične rešitve v Qrisp in preizkus z različnimi funkcijami (tu in po vsakem od naslednjih korakov do algoritma)\n",
    "- skupaj pridemo do tega, da bi računali s superpozicijami, zato vhodne kubite pripravimo s Hadamardom\n",
    "- spomnimo se, da je s ponovno uporabo Hadamarda treba povrniti vhodne kubite\n",
    "- skupaj pridemo do tega, da želimo vrednosti izničiti, zato izhodni kubit pripravimo s Hadamardom\n",
    "- kaj so naslednji koraki v programiranju (Bernstein-Vazirani, QPE, Grover, Shor, kvantne simulacije, …) -->"
   ]
  },
  {
   "cell_type": "code",
   "execution_count": null,
   "id": "034e4e84",
   "metadata": {},
   "outputs": [],
   "source": [
    "from qrisp import QuantumBool, QuantumFloat, h, cx, x, auto_uncompute\n",
    "\n",
    "N = 2"
   ]
  },
  {
   "cell_type": "code",
   "execution_count": null,
   "id": "17795a97",
   "metadata": {},
   "outputs": [],
   "source": [
    "def sodo(vhod, izhod):\n",
    "    cx(vhod[0], izhod)\n",
    "\n",
    "def konstantno0(vhod, izhod):\n",
    "    pass\n",
    "\n",
    "def konstantno1(vhod, izhod):\n",
    "    x(izhod)\n",
    "\n",
    "@auto_uncompute\n",
    "def v_prvi_polovici(vhod, izhod):\n",
    "    rezultat = vhod < 2 ** (N - 1)\n",
    "    cx(rezultat, izhod)"
   ]
  },
  {
   "cell_type": "code",
   "execution_count": null,
   "id": "88aede1d",
   "metadata": {},
   "outputs": [
    {
     "name": "stdout",
     "output_type": "stream",
     "text": [
      "Simulating 5 qubits.. |                                                      | [  0%]"
     ]
    },
    {
     "name": "stdout",
     "output_type": "stream",
     "text": [
      "                                                                                     \u001b[2K\r"
     ]
    },
    {
     "data": {
      "text/latex": [
       "$\\displaystyle \\frac{{\\left|0\\right\\rangle } {\\left|\\text{True}\\right\\rangle } + {\\left|1\\right\\rangle } {\\left|\\text{True}\\right\\rangle } + {\\left|2\\right\\rangle } {\\left|\\text{False}\\right\\rangle } + {\\left|3\\right\\rangle } {\\left|\\text{False}\\right\\rangle }}{2}$"
      ],
      "text/plain": [
       "(|0>*|True> + |1>*|True> + |2>*|False> + |3>*|False>)/2"
      ]
     },
     "execution_count": 46,
     "metadata": {},
     "output_type": "execute_result"
    }
   ],
   "source": [
    "vhod = QuantumFloat(N)\n",
    "izhod = QuantumBool(qs=vhod.qs)\n",
    "x(izhod)\n",
    "\n",
    "h(vhod)\n",
    "\n",
    "h(izhod)\n",
    "\n",
    "v_prvi_polovici(vhod, izhod)\n",
    "\n",
    "h(vhod)\n",
    "\n",
    "vhod.qs.statevector()"
   ]
  },
  {
   "cell_type": "markdown",
   "id": "025e69da",
   "metadata": {},
   "source": [
    "## Kam naprej?"
   ]
  },
  {
   "cell_type": "markdown",
   "id": "7f260f7e",
   "metadata": {},
   "source": []
  }
 ],
 "metadata": {
  "kernelspec": {
   "display_name": "fmf-qrisp",
   "language": "python",
   "name": "python3"
  },
  "language_info": {
   "codemirror_mode": {
    "name": "ipython",
    "version": 3
   },
   "file_extension": ".py",
   "mimetype": "text/x-python",
   "name": "python",
   "nbconvert_exporter": "python",
   "pygments_lexer": "ipython3",
   "version": "3.9.6"
  }
 },
 "nbformat": 4,
 "nbformat_minor": 5
}
