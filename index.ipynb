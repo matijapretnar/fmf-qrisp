{
 "cells": [
  {
   "cell_type": "markdown",
   "id": "38019d39",
   "metadata": {},
   "source": [
    "# Qrisp"
   ]
  },
  {
   "cell_type": "code",
   "execution_count": 9,
   "id": "81b7e29f",
   "metadata": {},
   "outputs": [],
   "source": [
    "import qrisp"
   ]
  },
  {
   "cell_type": "markdown",
   "id": "1ca8cb67",
   "metadata": {},
   "source": [
    "## 1. ura\n",
    "\n",
    "- zgodovina prehoda klasičnega računalništva od pretikanja kablov do danes, vzporednice s trenutnim stanjem kvantnih računalnikov\n",
    "- odprejo online Jupyter z nameščenim Qrispom in poženejo testni primer\n",
    "- osnovni koraki v Qrispu, zapis vezij prek spremenljivk in funkcij, meritve, …\n",
    "- Qrisp preizkusijo na vezjih, ki so jih do sedaj videli na šoli ter to primerjajo s pisanjem/risanjem v Qiskitu"
   ]
  },
  {
   "cell_type": "markdown",
   "id": "61eb905e",
   "metadata": {},
   "source": [
    "\n",
    "## 2. ura\n",
    "\n",
    "- prikaz dodatnih kvantnih tipov (`QuantumBool`, `QuantumInt`, `QuantumFloat`, …), operacij na njih, ter izračunanih vezij\n",
    "- v Qrispu pišejo svoje račune in kratke programe ter gledajo, kakšna vezja dobijo\n",
    "- pisanje kvantnih funkcij in samodejno dodajanje ancile, razračunanja, preklapljanje med implementacijami seštevalnikov, …\n",
    "- pišejo svoje funkcije, simulirajo rezultate, in opazujejo ustvarjena vezja\n",
    "- skupaj napišemo svoj lastni kvantni tip, npr. vržemo dve kvantni kocki in dobimo superpozicijo možnih vsot, pri obratu faze pa se nekateri izničijo"
   ]
  },
  {
   "cell_type": "markdown",
   "id": "474d1d1c",
   "metadata": {},
   "source": [
    "## 3. ura\n",
    "\n",
    "- motivacija Deutsch-Joszevega problema prek igrice, kjer poskušajo s čim manj vprašanji ugotoviti, kakšne vrste število sem si izmislil\n",
    "- dopolnijo predlogo klasično rešitve v Pythonu ter v njej preizkušajo različne funkcije (konstantno, levi-desni biti, sodi-lihi biti, …)\n",
    "- prepis klasične rešitve v Qrisp in preizkus z različnimi funkcijami (tu in po vsakem od naslednjih korakov do algoritma)\n",
    "- skupaj pridemo do tega, da bi računali s superpozicijami, zato vhodne kubite pripravimo s Hadamardom"
   ]
  },
  {
   "cell_type": "markdown",
   "id": "8d2970d1",
   "metadata": {},
   "source": [
    "## 4. ura\n",
    "\n",
    "- spomnimo se, da je s ponovno uporabo Hadamarda treba povrniti vhodne kubite\n",
    "- skupaj pridemo do tega, da želimo vrednosti izničiti, zato izhodni kubit pripravimo s Hadamardom\n",
    "- kaj so naslednji koraki v programiranju (Bernstein-Vazirani, QPE, Grover, Shor, kvantne simulacije, …)"
   ]
  }
 ],
 "metadata": {
  "kernelspec": {
   "display_name": "fmf-qrisp",
   "language": "python",
   "name": "python3"
  },
  "language_info": {
   "codemirror_mode": {
    "name": "ipython",
    "version": 3
   },
   "file_extension": ".py",
   "mimetype": "text/x-python",
   "name": "python",
   "nbconvert_exporter": "python",
   "pygments_lexer": "ipython3",
   "version": "3.9.6"
  }
 },
 "nbformat": 4,
 "nbformat_minor": 5
}
