{
 "cells": [
  {
   "cell_type": "markdown",
   "id": "8420dee8",
   "metadata": {},
   "source": [
    "# Visokonivojsko kvantno programiranje"
   ]
  },
  {
   "cell_type": "markdown",
   "id": "df2ef4c9",
   "metadata": {},
   "source": [
    "Če bi še vedno programirali s [pretikanjem kablov](https://sl.wikipedia.org/wiki/ENIAC) ali vstavljanjem [luknjanih kartic](https://sl.wikipedia.org/wiki/Luknjana_kartica), računalništvo zagotovo ne bi doživelo razmaha, ki ga vidimo danes. Namesto tega raje uporabljamo programske jezike, ki so vse bolj odmaknjeni od konkretnih podrobnosti implementacije, kot so na primer logična vrata, in vse bližje idejam, ki jih želimo izraziti s svojimi programi. Pravimo, da od _nizkonivojskega_ prehajamo na _visokonivojsko_ programiranje.\n",
    "\n",
    "A ravno v tej zgodnji nizkonivojski fazi je danes kvantno računalništvo. Računalniki zasedajo cele hale, število kubitov je omejeno, programe pa pišemo s sestavljanjem kvantnih vrat. Seveda smo zaradi tehničnih omejitev še vedno vsaj nekaj desetletij stran od potrebe po večjih programih, a to ne pomeni, da moramo biti omejeno tudi naše razmišljanje. Poleg tega pa nam izkušnje z razvojem klasičnih računalnikov že nakazujejo približno pot, v katero se bomo odpravili."
   ]
  },
  {
   "cell_type": "markdown",
   "id": "5c1109d8",
   "metadata": {},
   "source": [
    "## Sreda: Uvod v Qrisp"
   ]
  },
  {
   "cell_type": "markdown",
   "id": "8d6c0880",
   "metadata": {},
   "source": [
    "Večina kvantnih programskih jezikov, vključno s [Qiskitom](https://www.ibm.com/quantum/qiskit), ki ste ga že srečali, je trenutno nizkonivojskih. so trenutno še v povojih. Na delavnici bomo srečali [Qrisp](https://www.qrisp.eu), enega izmed redkih visokonivojskih. No, vsaj trenutno mu lahko rečemo visokonivojski, morda pa mu bomo ravno zaradi vaših dognanj čez dvajset let rekli nizkonivojski…"
   ]
  },
  {
   "cell_type": "markdown",
   "id": "89f6a630",
   "metadata": {},
   "source": [
    "### Kvantne spremenljivke: [QuantumVariable](https://www.qrisp.eu/reference/Core/QuantumVariable.html)"
   ]
  },
  {
   "cell_type": "code",
   "execution_count": null,
   "id": "6d5d4fc1",
   "metadata": {},
   "outputs": [],
   "source": [
    "from qrisp import QuantumVariable\n",
    "\n",
    "alica = QuantumVariable(4, name=\"alica\")"
   ]
  },
  {
   "cell_type": "code",
   "execution_count": null,
   "id": "83454e83",
   "metadata": {},
   "outputs": [],
   "source": [
    "print(alica)"
   ]
  },
  {
   "cell_type": "code",
   "execution_count": null,
   "id": "ac476a5e",
   "metadata": {},
   "outputs": [],
   "source": [
    "print(alica.size)"
   ]
  },
  {
   "cell_type": "code",
   "execution_count": null,
   "id": "597c1139",
   "metadata": {},
   "outputs": [],
   "source": [
    "print(alica.qs)"
   ]
  },
  {
   "cell_type": "code",
   "execution_count": null,
   "id": "dc702c5b",
   "metadata": {},
   "outputs": [],
   "source": [
    "prvi_kubit = alica[0]\n",
    "zadnja_dva = alica[:2]"
   ]
  },
  {
   "cell_type": "markdown",
   "id": "959243e0",
   "metadata": {},
   "source": [
    "#### Kvantna vrata"
   ]
  },
  {
   "cell_type": "code",
   "execution_count": null,
   "id": "db5df776",
   "metadata": {},
   "outputs": [],
   "source": [
    "from qrisp import x, h, cx\n",
    "\n",
    "x(prvi_kubit)\n",
    "h(alica[1])\n",
    "cx(alica[2], alica[3])"
   ]
  },
  {
   "cell_type": "code",
   "execution_count": null,
   "id": "8e5c17d4",
   "metadata": {},
   "outputs": [],
   "source": [
    "print(alica.qs)"
   ]
  },
  {
   "cell_type": "code",
   "execution_count": null,
   "id": "517dad06",
   "metadata": {},
   "outputs": [],
   "source": [
    "print(alica.qs.statevector())"
   ]
  },
  {
   "cell_type": "markdown",
   "id": "43a402e1",
   "metadata": {},
   "source": [
    "![analogija s kovanci](slikovna_gradiva/GHZ_kovanci.png)"
   ]
  },
  {
   "cell_type": "markdown",
   "id": "8774b960",
   "metadata": {},
   "source": [
    "\n",
    "![malo kasneje](slikovna_gradiva/malo_kasneje.png)"
   ]
  },
  {
   "cell_type": "code",
   "execution_count": null,
   "id": "862c5165",
   "metadata": {},
   "outputs": [],
   "source": [
    "def nastavi_ghz(qv):\n",
    "    ..."
   ]
  },
  {
   "cell_type": "code",
   "execution_count": null,
   "id": "077eae76",
   "metadata": {},
   "outputs": [],
   "source": [
    "ghz = QuantumVariable(3)\n",
    "nastavi_ghz(ghz)\n",
    "print(ghz)"
   ]
  },
  {
   "cell_type": "code",
   "execution_count": null,
   "id": "5a6adde2",
   "metadata": {},
   "outputs": [],
   "source": [
    "print(ghz.qs)"
   ]
  },
  {
   "cell_type": "code",
   "execution_count": null,
   "id": "8a5d5bfd",
   "metadata": {},
   "outputs": [],
   "source": [
    "print(ghz.qs.statevector())\n",
    "print(ghz.qs.depth())\n",
    "print(ghz.qs.cnot_count())"
   ]
  },
  {
   "cell_type": "markdown",
   "id": "02e7b75d",
   "metadata": {},
   "source": [
    "### Kvantni tipi: [QuantumFloat](https://www.qrisp.eu/reference/Quantum%20Types/QuantumFloat.html)"
   ]
  },
  {
   "cell_type": "code",
   "execution_count": null,
   "id": "198d5696",
   "metadata": {},
   "outputs": [],
   "source": [
    "from qrisp import QuantumFloat\n",
    "\n",
    "a = QuantumFloat(5)"
   ]
  },
  {
   "cell_type": "markdown",
   "id": "4c72a181",
   "metadata": {},
   "source": []
  },
  {
   "cell_type": "code",
   "execution_count": null,
   "id": "509aa7ee",
   "metadata": {},
   "outputs": [],
   "source": [
    "h(a)"
   ]
  },
  {
   "cell_type": "code",
   "execution_count": null,
   "id": "52ab1631",
   "metadata": {},
   "outputs": [],
   "source": [
    "b = QuantumFloat(5, exponent = -2)"
   ]
  },
  {
   "cell_type": "markdown",
   "id": "a8c4575b",
   "metadata": {},
   "source": []
  },
  {
   "cell_type": "code",
   "execution_count": null,
   "id": "5cdf0094",
   "metadata": {},
   "outputs": [],
   "source": [
    "h(b)"
   ]
  },
  {
   "cell_type": "code",
   "execution_count": null,
   "id": "72803b07",
   "metadata": {},
   "outputs": [],
   "source": [
    "c = QuantumFloat(5, exponent = -2, signed = True)"
   ]
  },
  {
   "cell_type": "markdown",
   "id": "9080d3da",
   "metadata": {},
   "source": []
  },
  {
   "cell_type": "code",
   "execution_count": null,
   "id": "e0428f41",
   "metadata": {},
   "outputs": [],
   "source": [
    "h(c)"
   ]
  },
  {
   "cell_type": "markdown",
   "id": "2eaccdbd",
   "metadata": {},
   "source": [
    "#### Računanje s floati"
   ]
  },
  {
   "cell_type": "code",
   "execution_count": null,
   "id": "a02a31d0",
   "metadata": {},
   "outputs": [],
   "source": [
    "d = QuantumFloat(...)\n",
    "e = QuantumFloat(...)\n",
    "f = QuantumFloat(...)\n",
    "\n",
    "d[:] = ...\n",
    "e[:] = ...\n",
    "f[:] = ...\n",
    "\n",
    "g = d+e\n",
    "h = g-f\n",
    "i = ...*h\n",
    "j = .../..."
   ]
  },
  {
   "cell_type": "code",
   "execution_count": null,
   "id": "451797c2",
   "metadata": {},
   "outputs": [],
   "source": [
    "a = ...\n",
    "b = ...\n",
    "\n",
    "a[:] = ...\n",
    "h(b[...])\n",
    "\n",
    "c = a + b"
   ]
  },
  {
   "cell_type": "markdown",
   "id": "a57fb5b0",
   "metadata": {},
   "source": [
    "### Kvantni tipi: [QuantumBool](https://www.qrisp.eu/reference/Quantum%20Types/QuantumBool.html#quantumbool) "
   ]
  },
  {
   "cell_type": "code",
   "execution_count": null,
   "id": "95223fb9",
   "metadata": {},
   "outputs": [],
   "source": [
    "boo1 = QuantumBool()"
   ]
  },
  {
   "cell_type": "code",
   "execution_count": null,
   "id": "4e2ccead",
   "metadata": {},
   "outputs": [],
   "source": [
    "print(boo1)"
   ]
  },
  {
   "cell_type": "code",
   "execution_count": null,
   "id": "72eae974",
   "metadata": {},
   "outputs": [],
   "source": [
    "h(boo1)"
   ]
  },
  {
   "cell_type": "code",
   "execution_count": null,
   "id": "bd6d1a08",
   "metadata": {},
   "outputs": [],
   "source": [
    "print(boo1)"
   ]
  },
  {
   "cell_type": "code",
   "execution_count": null,
   "id": "8a4afc50",
   "metadata": {},
   "outputs": [],
   "source": [
    "boo2 = QuantumBool()\n",
    "\n",
    "boo1_in_boo2 = boo1 & boo2"
   ]
  },
  {
   "cell_type": "code",
   "execution_count": null,
   "id": "eba5a52c",
   "metadata": {},
   "outputs": [],
   "source": [
    "boo1_ali_boo2 = boo1 | boo2"
   ]
  },
  {
   "cell_type": "markdown",
   "id": "53f4ea95",
   "metadata": {},
   "source": [
    "### Avtomatsko kvantno [\"odračunanje\"](https://www.qrisp.eu/reference/Core/Uncomputation.html)"
   ]
  },
  {
   "cell_type": "markdown",
   "id": "578dda64",
   "metadata": {},
   "source": [
    "### Kvantne funkcije"
   ]
  },
  {
   "cell_type": "markdown",
   "id": "f19c225c",
   "metadata": {},
   "source": [
    "## Četrtek: Deutsch-Jozsev algoritem"
   ]
  },
  {
   "cell_type": "markdown",
   "id": "17d4063b",
   "metadata": {},
   "source": [
    "V običajnem programiranju poznamo osnovna orodja, s katerimi pišemo programe, na primer zanke ali pogojni stavki. Kvantno računalništvo uvaja popolnoma nove načine programiranja, na primer superpozicijo, s katero računalnik računa z več vrednostmi naenkrat, ali interferenco, s katero izničnimo neželene možnosti. Ta nova orodja bomo spoznali pri pisanju svojega prvega kvantnega algoritma."
   ]
  }
 ],
 "metadata": {
  "kernelspec": {
   "display_name": "fmf-qrisp",
   "language": "python",
   "name": "python3"
  },
  "language_info": {
   "codemirror_mode": {
    "name": "ipython",
    "version": 3
   },
   "file_extension": ".py",
   "mimetype": "text/x-python",
   "name": "python",
   "nbconvert_exporter": "python",
   "pygments_lexer": "ipython3",
   "version": "3.9.6"
  }
 },
 "nbformat": 4,
 "nbformat_minor": 5
}
