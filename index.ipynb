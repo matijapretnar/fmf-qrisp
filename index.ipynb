{
 "cells": [
  {
   "cell_type": "markdown",
   "id": "38019d39",
   "metadata": {},
   "source": [
    "# Qrisp"
   ]
  },
  {
   "cell_type": "code",
   "execution_count": 1,
   "id": "81b7e29f",
   "metadata": {},
   "outputs": [
    {
     "name": "stderr",
     "output_type": "stream",
     "text": [
      "/Users/matija/.venv/fmf-qrisp/lib/python3.9/site-packages/urllib3/__init__.py:35: NotOpenSSLWarning: urllib3 v2 only supports OpenSSL 1.1.1+, currently the 'ssl' module is compiled with 'LibreSSL 2.8.3'. See: https://github.com/urllib3/urllib3/issues/3020\n",
      "  warnings.warn(\n"
     ]
    }
   ],
   "source": [
    "import qrisp"
   ]
  },
  {
   "cell_type": "markdown",
   "id": "1ca8cb67",
   "metadata": {},
   "source": [
    "## Sreda: Uvod v Qrisp\n",
    "\n",
    "<!-- - (5 min) zgodovina prehoda klasičnega računalništva od pretikanja kablov do danes, vzporednice s trenutnim stanjem kvantnih računalnikov\n",
    "- (10 min) odprejo online Jupyter z nameščenim Qrispom in poženejo testni primer\n",
    "- osnovni koraki v Qrispu, zapis vezij prek spremenljivk in funkcij, meritve, …\n",
    "- Qrisp preizkusijo na vezjih, ki so jih do sedaj videli na šoli ter to primerjajo s pisanjem/risanjem v Qiskitu\n",
    "- prikaz dodatnih kvantnih tipov (`QuantumBool`, `QuantumFloat`, …), operacij na njih, ter izračunanih vezij\n",
    "- v Qrispu pišejo svoje račune in kratke programe ter gledajo, kakšna vezja dobijo\n",
    "- pisanje kvantnih funkcij in samodejno dodajanje ancile, razračunanja, …\n",
    "- pišejo svoje funkcije, simulirajo rezultate, in opazujejo ustvarjena vezja\n",
    "- skupaj napišemo svoj lastni kvantni tip, npr. vržemo dve kvantni kocki in dobimo superpozicijo možnih vsot, pri obratu faze pa se nekateri izničijo -->"
   ]
  },
  {
   "cell_type": "markdown",
   "id": "990c71ca",
   "metadata": {},
   "source": [
    "Zgodovina prehoda klasičnega računalništva od pretikanja kablov do danes, vzporednice s trenutnim stanjem kvantnih računalnikov"
   ]
  },
  {
   "cell_type": "markdown",
   "id": "cc2cd3aa",
   "metadata": {},
   "source": [
    "### Kvantna vrata in Qrisp sintaksa\n"
   ]
  },
  {
   "cell_type": "markdown",
   "id": "b38e35e0",
   "metadata": {},
   "source": [
    "### Od programiranja s kvantnimi vezji do implementacij preko \"klasičnega pristopa\" spremenljivk in funkcij"
   ]
  },
  {
   "cell_type": "markdown",
   "id": "2b53fd8e",
   "metadata": {},
   "source": [
    "### Kvantne spremenljivke: QuantumVariable"
   ]
  },
  {
   "cell_type": "markdown",
   "id": "247b5e54",
   "metadata": {},
   "source": [
    "### Kvantni tipi: QuantumFloat"
   ]
  },
  {
   "cell_type": "markdown",
   "id": "cd762e78",
   "metadata": {},
   "source": [
    "### Računanje s kvantnimi floati"
   ]
  },
  {
   "cell_type": "markdown",
   "id": "b14dc167",
   "metadata": {},
   "source": [
    "### Kvantni tipi: QuantumBool"
   ]
  },
  {
   "cell_type": "markdown",
   "id": "605be304",
   "metadata": {},
   "source": [
    "### Logični % in logični "
   ]
  },
  {
   "cell_type": "markdown",
   "id": "121a5964",
   "metadata": {},
   "source": [
    "### Avtomatsko kvantno \"odračunanje\""
   ]
  },
  {
   "cell_type": "markdown",
   "id": "474d1d1c",
   "metadata": {},
   "source": [
    "## Četrtek: Deutsch-Jozsev algoritem\n",
    "\n",
    "<!-- - motivacija Deutsch-Jozsevega problema prek igrice, kjer poskušajo s čim manj vprašanji ugotoviti, kakšne vrste število sem si izmislil\n",
    "- dopolnijo predlogo klasično rešitve v Pythonu ter v njej preizkušajo različne funkcije (konstantno, levi-desni biti, sodi-lihi biti, …)\n",
    "- prepis klasične rešitve v Qrisp in preizkus z različnimi funkcijami (tu in po vsakem od naslednjih korakov do algoritma)\n",
    "- skupaj pridemo do tega, da bi računali s superpozicijami, zato vhodne kubite pripravimo s Hadamardom\n",
    "- spomnimo se, da je s ponovno uporabo Hadamarda treba povrniti vhodne kubite\n",
    "- skupaj pridemo do tega, da želimo vrednosti izničiti, zato izhodni kubit pripravimo s Hadamardom\n",
    "- kaj so naslednji koraki v programiranju (Bernstein-Vazirani, QPE, Grover, Shor, kvantne simulacije, …) -->"
   ]
  },
  {
   "cell_type": "code",
   "execution_count": 16,
   "id": "034e4e84",
   "metadata": {},
   "outputs": [],
   "source": [
    "from qrisp import QuantumBool, QuantumFloat, h, cx, x, auto_uncompute\n",
    "\n",
    "N = 2"
   ]
  },
  {
   "cell_type": "code",
   "execution_count": 40,
   "id": "17795a97",
   "metadata": {},
   "outputs": [],
   "source": [
    "def sodo(vhod, izhod):\n",
    "    cx(vhod[0], izhod)\n",
    "\n",
    "def konstantno0(vhod, izhod):\n",
    "    pass\n",
    "\n",
    "def konstantno1(vhod, izhod):\n",
    "    x(izhod)\n",
    "\n",
    "@auto_uncompute\n",
    "def v_prvi_polovici(vhod, izhod):\n",
    "    rezultat = vhod < 2 ** (N - 1)\n",
    "    cx(rezultat, izhod)"
   ]
  },
  {
   "cell_type": "code",
   "execution_count": null,
   "id": "88aede1d",
   "metadata": {},
   "outputs": [
    {
     "name": "stdout",
     "output_type": "stream",
     "text": [
      "Simulating 5 qubits.. |                                                      | [  0%]"
     ]
    },
    {
     "name": "stdout",
     "output_type": "stream",
     "text": [
      "                                                                                     \u001b[2K\r"
     ]
    },
    {
     "data": {
      "text/latex": [
       "$\\displaystyle \\frac{{\\left|0\\right\\rangle } {\\left|\\text{True}\\right\\rangle } + {\\left|1\\right\\rangle } {\\left|\\text{True}\\right\\rangle } + {\\left|2\\right\\rangle } {\\left|\\text{False}\\right\\rangle } + {\\left|3\\right\\rangle } {\\left|\\text{False}\\right\\rangle }}{2}$"
      ],
      "text/plain": [
       "(|0>*|True> + |1>*|True> + |2>*|False> + |3>*|False>)/2"
      ]
     },
     "execution_count": 46,
     "metadata": {},
     "output_type": "execute_result"
    }
   ],
   "source": [
    "vhod = QuantumFloat(N)\n",
    "izhod = QuantumBool(qs=vhod.qs)\n",
    "x(izhod)\n",
    "\n",
    "h(vhod)\n",
    "\n",
    "h(izhod)\n",
    "\n",
    "v_prvi_polovici(vhod, izhod)\n",
    "\n",
    "h(vhod)\n",
    "\n",
    "vhod.qs.statevector()"
   ]
  },
  {
   "cell_type": "markdown",
   "id": "025e69da",
   "metadata": {},
   "source": [
    "## Kam naprej?"
   ]
  },
  {
   "cell_type": "markdown",
   "id": "7f260f7e",
   "metadata": {},
   "source": []
  }
 ],
 "metadata": {
  "kernelspec": {
   "display_name": "fmf-qrisp",
   "language": "python",
   "name": "python3"
  },
  "language_info": {
   "codemirror_mode": {
    "name": "ipython",
    "version": 3
   },
   "file_extension": ".py",
   "mimetype": "text/x-python",
   "name": "python",
   "nbconvert_exporter": "python",
   "pygments_lexer": "ipython3",
   "version": "3.9.6"
  }
 },
 "nbformat": 4,
 "nbformat_minor": 5
}
