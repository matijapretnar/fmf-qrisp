{
 "cells": [
  {
   "cell_type": "markdown",
   "id": "8420dee8",
   "metadata": {},
   "source": [
    "# Visokonivojsko kvantno programiranje"
   ]
  },
  {
   "cell_type": "markdown",
   "id": "df2ef4c9",
   "metadata": {},
   "source": [
    "Če bi še vedno programirali s [pretikanjem kablov](https://sl.wikipedia.org/wiki/ENIAC) ali vstavljanjem [luknjanih kartic](https://sl.wikipedia.org/wiki/Luknjana_kartica), računalništvo zagotovo ne bi doživelo razmaha, ki ga vidimo danes. Namesto tega raje uporabljamo programske jezike, ki so vse bolj odmaknjeni od konkretnih podrobnosti implementacije, kot so na primer logična vrata, in vse bližje idejam, ki jih želimo izraziti s svojimi programi. Pravimo, da od _nizkonivojskega_ prehajamo na _visokonivojsko_ programiranje.\n",
    "\n",
    "A ravno v tej zgodnji nizkonivojski fazi je danes kvantno računalništvo. Računalniki zasedajo cele hale, število kubitov je omejeno, programe pa pišemo s sestavljanjem kvantnih vrat. Seveda smo zaradi tehničnih omejitev še vedno vsaj nekaj desetletij stran od potrebe po večjih programih, a to ne pomeni, da moramo biti omejeno tudi naše razmišljanje. Poleg tega pa nam izkušnje z razvojem klasičnih računalnikov že nakazujejo približno pot, v katero se bomo odpravili."
   ]
  },
  {
   "cell_type": "markdown",
   "id": "5c1109d8",
   "metadata": {},
   "source": [
    "## Sreda: Uvod v Qrisp"
   ]
  },
  {
   "cell_type": "markdown",
   "id": "8d6c0880",
   "metadata": {},
   "source": [
    "Večina kvantnih programskih jezikov, vključno s [Qiskitom](https://www.ibm.com/quantum/qiskit), ki ste ga že srečali, je trenutno nizkonivojskih. so trenutno še v povojih. Na delavnici bomo srečali [Qrisp](https://www.qrisp.eu), enega izmed redkih visokonivojskih. No, vsaj trenutno mu lahko rečemo visokonivojski, morda pa mu bomo ravno zaradi vaših dognanj čez dvajset let rekli nizkonivojski…"
   ]
  },
  {
   "cell_type": "markdown",
   "id": "89f6a630",
   "metadata": {},
   "source": [
    "### Kvantne spremenljivke: [QuantumVariable](https://www.qrisp.eu/reference/Core/QuantumVariable.html)"
   ]
  },
  {
   "cell_type": "code",
   "execution_count": null,
   "id": "6d5d4fc1",
   "metadata": {},
   "outputs": [],
   "source": [
    "from qrisp import QuantumVariable\n",
    "\n",
    "alica = QuantumVariable(4, name=\"alica\")"
   ]
  },
  {
   "cell_type": "code",
   "execution_count": null,
   "id": "83454e83",
   "metadata": {},
   "outputs": [],
   "source": [
    "print(alica)"
   ]
  },
  {
   "cell_type": "code",
   "execution_count": null,
   "id": "ac476a5e",
   "metadata": {},
   "outputs": [],
   "source": [
    "print(alica.size)"
   ]
  },
  {
   "cell_type": "code",
   "execution_count": null,
   "id": "597c1139",
   "metadata": {},
   "outputs": [],
   "source": [
    "print(alica.qs)"
   ]
  },
  {
   "cell_type": "code",
   "execution_count": null,
   "id": "dc702c5b",
   "metadata": {},
   "outputs": [],
   "source": [
    "prvi_kubit = alica[0]\n",
    "zadnja_dva = alica[:2]"
   ]
  },
  {
   "cell_type": "markdown",
   "id": "959243e0",
   "metadata": {},
   "source": [
    "#### Kvantna vrata"
   ]
  },
  {
   "cell_type": "code",
   "execution_count": null,
   "id": "db5df776",
   "metadata": {},
   "outputs": [],
   "source": [
    "from qrisp import x, h, cx\n",
    "\n",
    "x(prvi_kubit)\n",
    "h(alica[1])\n",
    "cx(alica[2], alica[3])"
   ]
  },
  {
   "cell_type": "code",
   "execution_count": null,
   "id": "8e5c17d4",
   "metadata": {},
   "outputs": [],
   "source": [
    "print(alica.qs)"
   ]
  },
  {
   "cell_type": "code",
   "execution_count": null,
   "id": "517dad06",
   "metadata": {},
   "outputs": [],
   "source": [
    "print(alica.qs.statevector())"
   ]
  },
  {
   "cell_type": "markdown",
   "id": "43a402e1",
   "metadata": {},
   "source": [
    "![analogija s kovanci](slikovna_gradiva/GHZ_kovanci.png)"
   ]
  },
  {
   "cell_type": "markdown",
   "id": "8774b960",
   "metadata": {},
   "source": [
    "\n",
    "![malo kasneje](slikovna_gradiva/malo_kasneje.png)"
   ]
  },
  {
   "cell_type": "code",
   "execution_count": null,
   "id": "862c5165",
   "metadata": {},
   "outputs": [],
   "source": [
    "def nastavi_ghz(qv):\n",
    "    ..."
   ]
  },
  {
   "cell_type": "code",
   "execution_count": null,
   "id": "077eae76",
   "metadata": {},
   "outputs": [],
   "source": [
    "ghz = QuantumVariable(3)\n",
    "nastavi_ghz(ghz)\n",
    "print(ghz)"
   ]
  },
  {
   "cell_type": "code",
   "execution_count": null,
   "id": "5a6adde2",
   "metadata": {},
   "outputs": [],
   "source": [
    "print(ghz.qs)"
   ]
  },
  {
   "cell_type": "code",
   "execution_count": null,
   "id": "8a5d5bfd",
   "metadata": {},
   "outputs": [],
   "source": [
    "print(ghz.qs.statevector())\n",
    "print(ghz.qs.depth())\n",
    "print(ghz.qs.cnot_count())"
   ]
  },
  {
   "cell_type": "markdown",
   "id": "02e7b75d",
   "metadata": {},
   "source": [
    "### Kvantni tipi: [QuantumFloat](https://www.qrisp.eu/reference/Quantum%20Types/QuantumFloat.html)"
   ]
  },
  {
   "cell_type": "code",
   "execution_count": null,
   "id": "198d5696",
   "metadata": {},
   "outputs": [],
   "source": [
    "from qrisp import QuantumFloat\n",
    "\n",
    "a = QuantumFloat(5)"
   ]
  },
  {
   "cell_type": "markdown",
   "id": "4c72a181",
   "metadata": {},
   "source": []
  },
  {
   "cell_type": "code",
   "execution_count": null,
   "id": "509aa7ee",
   "metadata": {},
   "outputs": [],
   "source": [
    "h(a)"
   ]
  },
  {
   "cell_type": "code",
   "execution_count": null,
   "id": "52ab1631",
   "metadata": {},
   "outputs": [],
   "source": [
    "b = QuantumFloat(5, exponent = -2)"
   ]
  },
  {
   "cell_type": "markdown",
   "id": "a8c4575b",
   "metadata": {},
   "source": []
  },
  {
   "cell_type": "code",
   "execution_count": null,
   "id": "5cdf0094",
   "metadata": {},
   "outputs": [],
   "source": [
    "h(b)"
   ]
  },
  {
   "cell_type": "code",
   "execution_count": null,
   "id": "72803b07",
   "metadata": {},
   "outputs": [],
   "source": [
    "c = QuantumFloat(5, exponent = -2, signed = True)"
   ]
  },
  {
   "cell_type": "markdown",
   "id": "9080d3da",
   "metadata": {},
   "source": []
  },
  {
   "cell_type": "code",
   "execution_count": null,
   "id": "e0428f41",
   "metadata": {},
   "outputs": [],
   "source": [
    "h(c)"
   ]
  },
  {
   "cell_type": "markdown",
   "id": "2eaccdbd",
   "metadata": {},
   "source": [
    "#### Računanje s floati"
   ]
  },
  {
   "cell_type": "code",
   "execution_count": null,
   "id": "a02a31d0",
   "metadata": {},
   "outputs": [],
   "source": [
    "d = QuantumFloat(...)\n",
    "e = QuantumFloat(...)\n",
    "f = QuantumFloat(...)\n",
    "\n",
    "d[:] = ...\n",
    "e[:] = ...\n",
    "f[:] = ...\n",
    "\n",
    "g = d+e\n",
    "h = g-f\n",
    "i = ...*h\n",
    "j = .../..."
   ]
  },
  {
   "cell_type": "code",
   "execution_count": null,
   "id": "451797c2",
   "metadata": {},
   "outputs": [],
   "source": [
    "a = ...\n",
    "b = ...\n",
    "\n",
    "a[:] = ...\n",
    "h(b[...])\n",
    "\n",
    "c = a + b"
   ]
  },
  {
   "cell_type": "markdown",
   "id": "a57fb5b0",
   "metadata": {},
   "source": [
    "### Kvantni tipi: [QuantumBool](https://www.qrisp.eu/reference/Quantum%20Types/QuantumBool.html#quantumbool) "
   ]
  },
  {
   "cell_type": "code",
   "execution_count": null,
   "id": "95223fb9",
   "metadata": {},
   "outputs": [],
   "source": [
    "boo1 = QuantumBool()"
   ]
  },
  {
   "cell_type": "code",
   "execution_count": null,
   "id": "4e2ccead",
   "metadata": {},
   "outputs": [],
   "source": [
    "print(boo1)"
   ]
  },
  {
   "cell_type": "code",
   "execution_count": null,
   "id": "72eae974",
   "metadata": {},
   "outputs": [],
   "source": [
    "h(boo1)"
   ]
  },
  {
   "cell_type": "code",
   "execution_count": null,
   "id": "bd6d1a08",
   "metadata": {},
   "outputs": [],
   "source": [
    "print(boo1)"
   ]
  },
  {
   "cell_type": "code",
   "execution_count": null,
   "id": "8a4afc50",
   "metadata": {},
   "outputs": [],
   "source": [
    "boo2 = QuantumBool()\n",
    "\n",
    "boo1_in_boo2 = boo1 & boo2"
   ]
  },
  {
   "cell_type": "code",
   "execution_count": null,
   "id": "eba5a52c",
   "metadata": {},
   "outputs": [],
   "source": [
    "boo1_ali_boo2 = boo1 | boo2"
   ]
  },
  {
   "cell_type": "markdown",
   "id": "1623af6c",
   "metadata": {},
   "source": [
    "#### Primerjava floatov in/ali boolov"
   ]
  },
  {
   "cell_type": "code",
   "execution_count": null,
   "id": "6ef13d99",
   "metadata": {},
   "outputs": [],
   "source": [
    "a = QuantumFloat(4)\n",
    "h(a[3])\n",
    "boo3 = a >= 4\n",
    "print(a)\n",
    "print(boo3)\n",
    "print(boo3.qs.statevector())\n"
   ]
  },
  {
   "cell_type": "code",
   "execution_count": null,
   "id": "a94130c8",
   "metadata": {},
   "outputs": [],
   "source": [
    "b = QuantumFloat(3)\n",
    "b[:] = 4\n",
    "primerjava = a < b\n",
    "print(primerjava.qs.statevector())"
   ]
  },
  {
   "cell_type": "markdown",
   "id": "578dda64",
   "metadata": {},
   "source": [
    "### Kvantne funkcije"
   ]
  },
  {
   "cell_type": "markdown",
   "id": "a1eb73ad",
   "metadata": {},
   "source": [
    "#### Kvantna ocena faze: Quantum Phase estimation (QPE)"
   ]
  },
  {
   "cell_type": "code",
   "execution_count": null,
   "id": "fae1a260",
   "metadata": {},
   "outputs": [],
   "source": [
    "from qrisp import QPE, p, QuantumVariable, multi_measurement\n",
    "import numpy as np\n",
    "\n",
    "def U(psi):\n",
    "    phi_1 = 0.5\n",
    "    phi_2 = 0.125\n",
    "\n",
    "    p(phi_1*2*np.pi, psi[0])\n",
    "    p(phi_2*2*np.pi, psi[1])\n",
    "\n",
    "psi = QuantumVariable(2)\n",
    "\n",
    "h(psi)\n",
    "\n",
    "res = QPE(psi, U, 3)\n",
    "\n",
    "print(multi_measurement([psi, res]))"
   ]
  },
  {
   "cell_type": "markdown",
   "id": "c85aa977",
   "metadata": {},
   "source": [
    "$$\\frac{1}{2}\\text{QPE}_U(\\ket{00}+\\ket{01}+\\ket{10}+\\ket{11}=\\frac{1}{2}(\\ket{00}\\ket{0}+\\ket{10}\\ket{\\phi_1}+\\ket{01}\\ket{\\phi_2}+\\ket{11}\\ket{\\phi_1+\\phi_2})$$"
   ]
  },
  {
   "cell_type": "markdown",
   "id": "113d22df",
   "metadata": {},
   "source": [
    "#### Shorov algoritem"
   ]
  },
  {
   "cell_type": "code",
   "execution_count": null,
   "id": "bb273df3",
   "metadata": {},
   "outputs": [],
   "source": [
    "from qrisp.algorithms import shor\n",
    "\n",
    "# Factor the number ...\n",
    "delitelj = shor(...)\n",
    "print(\"Delitelja ...:\", delitelj)"
   ]
  },
  {
   "cell_type": "markdown",
   "id": "f19c225c",
   "metadata": {},
   "source": [
    "## Četrtek: Kvantni algoritmi"
   ]
  },
  {
   "cell_type": "markdown",
   "id": "7170dd26",
   "metadata": {},
   "source": [
    "V običajnem programiranju poznamo osnovna orodja, s katerimi pišemo programe, na primer zanke ali pogojni stavki. Kvantno računalništvo uvaja popolnoma nove načine programiranja, na primer superpozicijo, s katero računalnik računa z več vrednostmi naenkrat, ali interferenco, s katero izničimo neželene možnosti. Spoznajmo ta orodja pri pisanju naših prvih kvantnih algoritmov."
   ]
  },
  {
   "cell_type": "markdown",
   "id": "4d105fa4",
   "metadata": {},
   "source": [
    "### Deutsch-Jozsev algoritem"
   ]
  },
  {
   "cell_type": "markdown",
   "id": "f1c637a5",
   "metadata": {},
   "source": [
    "Deutsch-Jozsev algoritem ne rešuje najbolj koristnega problema, je pa izjemno koristen, ker na enostaven način pokaže osnovne prijeme.\n",
    "\n",
    "Recimo, da si izmislimo naključen niz bitov, na primer $10110111$. Po koliko mestih bi nas moral vprašati soigralec, da ugotovi, kateri niz imamo v mislih? Odgovor je seveda toliko, kot je znakov. Če bi nas namreč vprašal samo po prvih sedmih in prišel do ugotovitve, da je naš niz oblike $1011011?$, bi še vedno ostali dve možnosti $10110110$ ter $10110111$.\n",
    "\n",
    "Pa mu malo olajšajmo delo. Zopet si izmislimo naključen niz, vendar z omejitvijo, da bo na vseh mestih enak (torej $00000000$ ali $11111111$) ali pa _uravnotežen_, kar pomeni, da bo imel polovico ničel ter polovico enic (na priemr $01010101$ ali $01000111$). Poleg tega soigralcu ni treba uganiti števila, ampak je dovolj, da ugotovi, katero izmed obeh možnosti smo izbrali. Po koliko znakih nas mora vprašati sedaj?\n",
    "\n",
    "Če ima srečo, ter z dvema vprašanjema izve, da je niz oblike $01??????$, lahko že zaključi, da niz ni enak na vseh mestih, torej je uravnotežen (če bi si izbrali npr. $01000000$ smo namreč prekršili pravila igre). Ampak včasih ima težje delo. Recimo, da po štirih vprašanjih ve, da je niz oblike $1111????$. Je niz konstanten $11111111$ ali uravnotežen $11110000$? Zato v najslabšem primeru potrebuje pet vprašanj.\n",
    "\n",
    "V kvantnem svetu pa z Deutsch-Jozsevim algoritmom zadošča eno samo vprašanje."
   ]
  },
  {
   "cell_type": "markdown",
   "id": "8c453a34",
   "metadata": {},
   "source": [
    "#### Klasičen algoritem"
   ]
  },
  {
   "cell_type": "markdown",
   "id": "15bfdff6",
   "metadata": {},
   "source": [
    "Da bomo lažje programirali, bomo namesto nizev in vprašanj uporabljali funkcije, ki sprejmejo mesto ter vrnejo logično vrednost. Na primer niz $01010101$ predstavimo s funkcijo, ki sprejme eno od števil $0, 1, \\ldots, 7$ (saj smo programerji in začnemo šteti z 0), nato pa na mestih $i \\in \\{ 0, 2, 4, 6 \\}$ vrne $0$, na mestih $i \\in \\{ 1, 3, 5, 7 \\}$ pa $1$. Podobno bi niz $11111111$ predstavili s funkcijo, ki vedno vrača $1$, niz $11110000$ pa s funkcijo, ki vrne $1$ natanko takrat, kadar je mesto $i <> 4$.\n",
    "\n",
    "Ravno tako se ne ukvarjamo s problemom, kolikokrat nas mora vprašati soigralec, ampak kolikokrat je treba poklicati to funkcijo."
   ]
  },
  {
   "cell_type": "code",
   "execution_count": null,
   "id": "6bc3f6d4",
   "metadata": {},
   "outputs": [],
   "source": [
    "def ena_na_lihih_mestih(i):\n",
    "    return i % 2 == 1\n",
    "\n",
    "def povsod_ena(i):\n",
    "    return True\n",
    "\n",
    "def ena_na_zacetku(i):\n",
    "    return i < 4"
   ]
  },
  {
   "cell_type": "code",
   "execution_count": null,
   "id": "ccdfe1db",
   "metadata": {},
   "outputs": [],
   "source": [
    "print([(i, ena_na_lihih_mestih(i)) for i in range(8)])\n",
    "print([(i, povsod_ena(i)) for i in range(8)])\n",
    "print([(i, ena_na_zacetku(i)) for i in range(8)])"
   ]
  },
  {
   "cell_type": "code",
   "execution_count": null,
   "id": "613f277e",
   "metadata": {},
   "outputs": [],
   "source": [
    "def je_konstantna_ali_uravnotezena(neznana_funkcija):\n",
    "    videne_nicle = 0\n",
    "    videne_enke = 0\n",
    "    for i in range(5):\n",
    "        if neznana_funkcija(i):\n",
    "            videne_enke += 1\n",
    "        else:\n",
    "            videne_nicle += 1\n",
    "    if videne_enke > 0 and videne_nicle > 0:\n",
    "        print(\"Funkcija je uravnotežena\")\n",
    "    else:\n",
    "        print(\"Funkcija je konstantna\")"
   ]
  },
  {
   "cell_type": "code",
   "execution_count": null,
   "id": "48be8b49",
   "metadata": {},
   "outputs": [],
   "source": [
    "je_konstantna_ali_uravnotezena(ena_na_lihih_mestih)"
   ]
  },
  {
   "cell_type": "code",
   "execution_count": null,
   "id": "7abfd9e6",
   "metadata": {},
   "outputs": [],
   "source": [
    "je_konstantna_ali_uravnotezena(povsod_ena)"
   ]
  },
  {
   "cell_type": "code",
   "execution_count": null,
   "id": "cdcdb8fb",
   "metadata": {},
   "outputs": [],
   "source": [
    "je_konstantna_ali_uravnotezena(ena_na_zacetku)"
   ]
  },
  {
   "cell_type": "markdown",
   "id": "e3156c86",
   "metadata": {},
   "source": [
    "#### Kvantni algoritem"
   ]
  },
  {
   "cell_type": "markdown",
   "id": "02f9b36f",
   "metadata": {},
   "source": [
    "Napišimo iste tri funkcije še na kvantni način. Tu jih moramo pisati malo drugače, saj morajo sprejeti še dodaten kubit, na katerega bodo zapisale rezultat."
   ]
  },
  {
   "cell_type": "code",
   "execution_count": null,
   "id": "f78ed818",
   "metadata": {},
   "outputs": [],
   "source": [
    "from qrisp import QuantumBool, QuantumFloat, cx, x, auto_uncompute\n",
    "\n",
    "# primeri funkcij\n",
    "def q_ena_na_lihih_mestih(vhod, izhod):\n",
    "    cx(vhod[0], izhod)\n",
    "\n",
    "def q_povsod_ena(vhod, izhod):\n",
    "    x(izhod)\n",
    "\n",
    "@auto_uncompute\n",
    "def q_ena_na_zacetku(vhod, izhod):\n",
    "    manj_kot_stiri = vhod < 4\n",
    "    cx(manj_kot_stiri, izhod)"
   ]
  },
  {
   "cell_type": "markdown",
   "id": "b38731fd",
   "metadata": {},
   "source": [
    "Tudi tu lahko za začetek izvedemo naivno rešitev: funkcijo pokličemo na prvih petih mestih:"
   ]
  },
  {
   "cell_type": "code",
   "execution_count": null,
   "id": "a9923e75",
   "metadata": {},
   "outputs": [],
   "source": [
    "for i in range(5):\n",
    "    # pripravimo vhod in izhod\n",
    "    vhod = QuantumFloat(3)  # mesta 0, ..., 7 zapišemo s tremi kubiti\n",
    "    vhod[:] = i\n",
    "    izhod = QuantumBool()\n",
    "\n",
    "    # izvedemo funkcijo\n",
    "    q_ena_na_lihih_mestih(vhod, izhod)\n",
    "\n",
    "    # izmerimo rezultat\n",
    "    print(izhod.most_likely())"
   ]
  },
  {
   "cell_type": "markdown",
   "id": "00478f9a",
   "metadata": {},
   "source": [
    "Sedaj pa uporabimo prvi trik. Namesto, da bomo šli vrednost računat na vsakem mestu posebej, jo bomo šli raje računat na superpoziciji vseh mest."
   ]
  },
  {
   "cell_type": "code",
   "execution_count": null,
   "id": "cc1a634e",
   "metadata": {},
   "outputs": [],
   "source": [
    "from qrisp import h\n",
    "\n",
    "# pripravimo vhod in izhod\n",
    "vhod = QuantumFloat(3)\n",
    "h(vhod)\n",
    "izhod = QuantumBool()\n",
    "\n",
    "# izvedemo funkcijo\n",
    "q_ena_na_lihih_mestih(vhod, izhod)\n",
    "\n",
    "# pogledamo stanje rezultata\n",
    "vhod.qs.statevector()"
   ]
  },
  {
   "cell_type": "markdown",
   "id": "6dd3b697",
   "metadata": {},
   "source": [
    "Dobimo superpozicijo vseh možnih vhodov in odgovorov hkrati. Iz izpisa lahko razberemo, da je funkcija uravnotežena, ampak žal tega v resničnem življenju ne moremo izmeriti. Ob meritvi namreč dobimo le eno izmed možnih stanj v superpoziciji. Ampak kvantno računanje nam omogoča še več. Spomnimo se, da se odgovor na izhodni kubit zapiše s pomočjo ekskluzivnega ali $\\oplus$. Če je na izhodnem kubitu na začetku zapisana $1$, se bo napisal ravno obratni odgovor."
   ]
  },
  {
   "cell_type": "code",
   "execution_count": null,
   "id": "b9497ee9",
   "metadata": {},
   "outputs": [],
   "source": [
    "from qrisp import h\n",
    "\n",
    "# pripravimo vhod in izhod\n",
    "vhod = QuantumFloat(3)\n",
    "h(vhod)\n",
    "izhod = QuantumBool()\n",
    "izhod[:] = True\n",
    "\n",
    "# izvedemo funkcijo\n",
    "q_ena_na_lihih_mestih(vhod, izhod)\n",
    "\n",
    "# pogledamo stanje rezultata\n",
    "vhod.qs.statevector()"
   ]
  },
  {
   "cell_type": "markdown",
   "id": "8baa9511",
   "metadata": {},
   "source": [
    "Kaj pa, če na izhodni kubit pred izračunom napišemo superpozicijo $(|0\\rangle + |1\\rangle) / \\sqrt{2}$?"
   ]
  },
  {
   "cell_type": "code",
   "execution_count": null,
   "id": "bfcc5db8",
   "metadata": {},
   "outputs": [],
   "source": [
    "from qrisp import h\n",
    "\n",
    "# pripravimo vhod in izhod\n",
    "vhod = QuantumFloat(3)\n",
    "h(vhod)\n",
    "izhod = QuantumBool()\n",
    "# H |0> = (|0> + |1>) / √2\n",
    "h(izhod)\n",
    "\n",
    "# izvedemo funkcijo\n",
    "q_ena_na_lihih_mestih(vhod, izhod)\n",
    "\n",
    "# pogledamo stanje rezultata\n",
    "vhod.qs.statevector()"
   ]
  },
  {
   "cell_type": "markdown",
   "id": "24283353",
   "metadata": {},
   "source": [
    "No, to ni najbolj koristno, saj sedaj iz odgovora ne moremo razbrati ničesar. Če je naša funkcija na danem mestu vrnila $0$, bo izhodni kubit ostal nedotaknjen, torej $(|0\\rangle + |1\\rangle) / \\sqrt{2}$. Če pa bo vrnila $1$, pa bo na izhodnem kubitu zapisano:\n",
    "\n",
    "$$\n",
    "  (|0 \\oplus 1\\rangle + |1 \\oplus 1\\rangle) / \\sqrt{2}\n",
    "  =\n",
    "  (|1\\rangle + |0\\rangle) / \\sqrt{2}\n",
    "  =\n",
    "  (|0\\rangle + |1\\rangle) / \\sqrt{2}\n",
    "$$\n",
    "\n",
    "Torej dobimo enak izhod, ne glede na to, kako se obnaša funkcija. Ne ravno najbolj koristno. Kaj pa, če na izhodni kubit zapišemo $(|0\\rangle - |1\\rangle) / \\sqrt{2}$?"
   ]
  },
  {
   "cell_type": "code",
   "execution_count": null,
   "id": "e48fc295",
   "metadata": {},
   "outputs": [],
   "source": [
    "from qrisp import h\n",
    "\n",
    "# pripravimo vhod in izhod\n",
    "vhod = QuantumFloat(3)\n",
    "h(vhod)\n",
    "izhod = QuantumBool()\n",
    "# izhod negiramo\n",
    "x(izhod)\n",
    "# H |1> = (|0> - |1>) / √2\n",
    "h(izhod)\n",
    "h(izhod)\n",
    "\n",
    "# izvedemo funkcijo\n",
    "q_ena_na_lihih_mestih(vhod, izhod)\n",
    "\n",
    "# izmerimo rezultat\n",
    "vhod.qs.statevector()"
   ]
  },
  {
   "cell_type": "markdown",
   "id": "3981246f",
   "metadata": {},
   "source": [
    "Zmeda je videti podobna, ampak se zgodi nekaj zanimivega. Če je naša funkcija na danem mestu vrnila $0$, bo izhodni kubit kot prej ostal nedotaknjen, torej $(|0\\rangle - |1\\rangle) / \\sqrt{2}$. Če pa bo vrnila $1$, pa bo na izhodnem kubitu zapisano:\n",
    "\n",
    "$$\n",
    "  (|0 \\oplus 1\\rangle - |1 \\oplus 1\\rangle) / \\sqrt{2}\n",
    "  =\n",
    "  (|1\\rangle - |0\\rangle) / \\sqrt{2}\n",
    "  =\n",
    "  -(|0\\rangle - |1\\rangle) / \\sqrt{2}\n",
    "$$\n",
    "\n",
    "Vrednost je še vedno enaka kot prej, le z ravno obratno fazo. To nam omogoča, da se bodo nekatere vrednosti zaradi interference med seboj izničile. To interferenco dosežemo tako, da vse možne vhode s Hadamardovimi vrati, ki so sama svoj inverz, zopet zložimo nazaj."
   ]
  },
  {
   "cell_type": "code",
   "execution_count": null,
   "id": "911d708e",
   "metadata": {},
   "outputs": [],
   "source": [
    "from qrisp import h\n",
    "\n",
    "# pripravimo vhod in izhod\n",
    "vhod = QuantumFloat(3)\n",
    "h(vhod)\n",
    "izhod = QuantumBool()\n",
    "x(izhod)\n",
    "h(izhod)\n",
    "\n",
    "# izvedemo funkcijo\n",
    "q_ena_na_lihih_mestih(vhod, izhod)\n",
    "\n",
    "# vhod zložimo nazaj\n",
    "h(vhod)\n",
    "\n",
    "# izmerimo rezultat\n",
    "vhod.qs.statevector()"
   ]
  },
  {
   "cell_type": "markdown",
   "id": "b6728f76",
   "metadata": {},
   "source": [
    "Vidimo, da je v končni superpoziciji manj stanj, toda katera? Izkaže se, da takrat, kadar je funkcija konstantna, gotovo dobimo samo stanje $|0\\rangle$, kadar pa je uravnotežena, pa stanja $|0\\rangle$ zagotovo ne dobimo. Tako lahko na svoje vprašanje odgovorimo s samo eno uporabo funkcije. Vse skupaj sestavimo v eno funkcijo:"
   ]
  },
  {
   "cell_type": "code",
   "execution_count": null,
   "id": "7878a7c4",
   "metadata": {},
   "outputs": [],
   "source": [
    "def q_je_konstantna_ali_uravnotezena(q_neznana_funkcija):\n",
    "    # pripravimo vhod in izhod\n",
    "    vhod = QuantumFloat(3)\n",
    "    h(vhod)\n",
    "    izhod = QuantumBool()\n",
    "    x(izhod)\n",
    "    h(izhod)\n",
    "\n",
    "    # izvedemo funkcijo\n",
    "    q_neznana_funkcija(vhod, izhod)\n",
    "\n",
    "    # vhod zložimo nazaj\n",
    "    h(vhod)\n",
    "\n",
    "    # izmerimo rezultat\n",
    "    if vhod.most_likely() != 0:\n",
    "        print(\"Funkcija je uravnotežena\")\n",
    "    else:\n",
    "        print(\"Funkcija je konstantna\")"
   ]
  },
  {
   "cell_type": "code",
   "execution_count": null,
   "id": "5dd42ba0",
   "metadata": {},
   "outputs": [],
   "source": [
    "q_je_konstantna_ali_uravnotezena(q_ena_na_lihih_mestih)\n",
    "q_je_konstantna_ali_uravnotezena(q_povsod_ena)\n",
    "q_je_konstantna_ali_uravnotezena(q_ena_na_zacetku)"
   ]
  },
  {
   "cell_type": "markdown",
   "id": "b083c78d",
   "metadata": {},
   "source": [
    "### Groverjev algoritem"
   ]
  },
  {
   "cell_type": "markdown",
   "id": "e7598924",
   "metadata": {},
   "source": [
    "Več o Groverjevem in Shorovem algoritmu lahko preberete v naslednjem članku: <https://www.dlib.si/details/URN:NBN:SI:DOC-YUFKX72W>."
   ]
  },
  {
   "cell_type": "markdown",
   "id": "82653943",
   "metadata": {},
   "source": [
    "#### Predpriprava"
   ]
  },
  {
   "cell_type": "code",
   "execution_count": null,
   "id": "926ca49f",
   "metadata": {},
   "outputs": [],
   "source": [
    "from qrisp import QuantumFloat, QuantumBool, h\n",
    "import random\n",
    "\n",
    "# število kubitov\n",
    "N = 6\n",
    "\n",
    "# naključno število, ki ga iščemo\n",
    "skrivnost = random.randint(0, 2 ** N - 1)\n",
    "\n",
    "@auto_uncompute\n",
    "def skrivnostna_funkcija(vhod, izhod):\n",
    "    cx(vhod == skrivnost, izhod)\n",
    "\n",
    "# zrcaljenje prek povprečja\n",
    "@auto_uncompute\n",
    "def prezrcali_prek_povprecja(vhod, izhod):\n",
    "    h(vhod)\n",
    "    cx(vhod != 0, izhod)\n",
    "    h(vhod)"
   ]
  },
  {
   "cell_type": "markdown",
   "id": "77d640d9",
   "metadata": {},
   "source": [
    "#### Algoritem"
   ]
  },
  {
   "cell_type": "code",
   "execution_count": null,
   "id": "8b578bd8",
   "metadata": {},
   "outputs": [],
   "source": [
    "# pripravimo vhod in izhod\n",
    "vhod = QuantumFloat(N)\n",
    "h(vhod)\n",
    "izhod = QuantumBool()\n",
    "\n",
    "iteracije = round(3.141592 / 4 * 2 ** (N / 2))\n",
    "for i in range(iteracije):\n",
    "    skrivnostna_funkcija(vhod, izhod)\n",
    "    prezrcali_prek_povprecja(vhod, izhod)\n",
    "\n",
    "print(vhod)"
   ]
  },
  {
   "cell_type": "code",
   "execution_count": null,
   "id": "668fd264",
   "metadata": {},
   "outputs": [],
   "source": [
    "skrivnost"
   ]
  },
  {
   "cell_type": "markdown",
   "id": "965db126",
   "metadata": {},
   "source": [
    "### Shorov algoritem"
   ]
  },
  {
   "cell_type": "markdown",
   "id": "6fd51fa4",
   "metadata": {},
   "source": [
    "#### Predpriprava"
   ]
  },
  {
   "cell_type": "code",
   "execution_count": null,
   "id": "a91441a6",
   "metadata": {},
   "outputs": [],
   "source": [
    "import qrisp\n",
    "\n",
    "def gcd(m, n):\n",
    "    return m if n == 0 else gcd(n, m % n)\n",
    "\n",
    "def fractionalize(x0, eps):\n",
    "    coefs = []\n",
    "    x = x0\n",
    "    while True:\n",
    "        c = int(x)\n",
    "        d = x - int(x)\n",
    "        coefs.append(c)\n",
    "        a, b = 0, 1\n",
    "        for k in reversed(coefs):\n",
    "            a, b = b, a + k * b\n",
    "        if abs(b / a - x0) <= eps:\n",
    "            return (b, a)\n",
    "        x = 1 / d"
   ]
  },
  {
   "cell_type": "code",
   "execution_count": null,
   "id": "6f79a729",
   "metadata": {},
   "outputs": [],
   "source": [
    "fractionalize(3.141592, 0.01)"
   ]
  },
  {
   "cell_type": "code",
   "execution_count": null,
   "id": "a9fa2125",
   "metadata": {},
   "outputs": [],
   "source": [
    "fractionalize(3.141592, 0.00001)"
   ]
  },
  {
   "cell_type": "markdown",
   "id": "2a040393",
   "metadata": {},
   "source": [
    "#### Algoritem"
   ]
  },
  {
   "cell_type": "code",
   "execution_count": null,
   "id": "dae58aa6",
   "metadata": {},
   "outputs": [],
   "source": [
    "def find_period(a, N):\n",
    "    print(f\"Finding period of {a}, {a}², {a}³, … (mod {N})\")\n",
    "    qg = qrisp.QuantumModulus(N)\n",
    "    qg[:] = 1\n",
    "    num_qubits = 2 * qg.size + 1\n",
    "    qpe_res = qrisp.QuantumFloat(num_qubits, exponent=-num_qubits)\n",
    "    qrisp.h(qpe_res)\n",
    "    for qb in qpe_res:\n",
    "        with qrisp.control(qb):\n",
    "            qg *= a\n",
    "            a = (a * a) % N\n",
    "    qrisp.QFT(qpe_res, inv=True)\n",
    "    for approx in qpe_res.get_measurement():\n",
    "        _, r = fractionalize(approx, 1 / (2 * N))\n",
    "        yield r\n",
    "\n",
    "def factor(a, N):\n",
    "    for r in find_period(a, N):\n",
    "        print(f\"Trying {r}… \", end=\"\")\n",
    "        if r % 2 != 0:\n",
    "            print(f\"{r} is not even\")\n",
    "            continue\n",
    "        if (a ** r) % N != 1:\n",
    "            print(f\"{r} is not a period\")      \n",
    "            continue\n",
    "        d = gcd(a ** (r // 2) + 1, N)\n",
    "        print(f\"testing {a}^({r}/2 + 1) = {a}^{r // 2 + 1} = {d} (mod {N})\")\n",
    "        if d != 1 and d != N:\n",
    "            print(f\"{N} = {d} ⋅ {N // d}\")\n",
    "        else:\n",
    "            print(f\"{d} does not divide {N}\")\n",
    "        "
   ]
  },
  {
   "cell_type": "code",
   "execution_count": null,
   "id": "3c3fcc24",
   "metadata": {},
   "outputs": [],
   "source": [
    "factor(10, 99)"
   ]
  }
 ],
 "metadata": {
  "kernelspec": {
   "display_name": "fmf-qrisp",
   "language": "python",
   "name": "python3"
  },
  "language_info": {
   "codemirror_mode": {
    "name": "ipython",
    "version": 3
   },
   "file_extension": ".py",
   "mimetype": "text/x-python",
   "name": "python",
   "nbconvert_exporter": "python",
   "pygments_lexer": "ipython3",
   "version": "3.9.6"
  }
 },
 "nbformat": 4,
 "nbformat_minor": 5
}
