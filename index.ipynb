{
 "cells": [
  {
   "cell_type": "markdown",
   "id": "8420dee8",
   "metadata": {},
   "source": [
    "# Visokonivojsko kvantno programiranje"
   ]
  },
  {
   "cell_type": "markdown",
   "id": "df2ef4c9",
   "metadata": {},
   "source": [
    "Če bi še vedno programirali s [pretikanjem kablov](https://sl.wikipedia.org/wiki/ENIAC) ali vstavljanjem [luknjanih kartic](https://sl.wikipedia.org/wiki/Luknjana_kartica), računalništvo zagotovo ne bi doživelo razmaha, ki ga vidimo danes. Namesto tega raje uporabljamo programske jezike, ki so vse bolj odmaknjeni od konkretnih podrobnosti implementacije, kot so na primer logična vrata, in vse bližje idejam, ki jih želimo izraziti s svojimi programi. Pravimo, da od _nizkonivojskega_ prehajamo na _visokonivojsko_ programiranje.\n",
    "\n",
    "A ravno v tej zgodnji nizkonivojski fazi je danes kvantno računalništvo. Računalniki zasedajo cele hale, število kubitov je omejeno, programe pa pišemo s sestavljanjem kvantnih vrat. Seveda smo zaradi tehničnih omejitev še vedno vsaj nekaj desetletij stran od potrebe po večjih programih, a to ne pomeni, da moramo biti omejeno tudi naše razmišljanje. Poleg tega pa nam izkušnje z razvojem klasičnih računalnikov že nakazujejo približno pot, v katero se bomo odpravili."
   ]
  },
  {
   "cell_type": "markdown",
   "id": "5c1109d8",
   "metadata": {},
   "source": [
    "## Sreda: Uvod v Qrisp"
   ]
  },
  {
   "cell_type": "markdown",
   "id": "8d6c0880",
   "metadata": {},
   "source": [
    "Večina kvantnih programskih jezikov, vključno s [Qiskitom](https://www.ibm.com/quantum/qiskit), ki ste ga že srečali, je trenutno nizkonivojskih. so trenutno še v povojih. Na delavnici bomo srečali [Qrisp](https://www.qrisp.eu), enega izmed redkih visokonivojskih. No, vsaj trenutno mu lahko rečemo visokonivojski, morda pa mu bomo ravno zaradi vaših dognanj čez dvajset let rekli nizkonivojski…"
   ]
  },
  {
   "cell_type": "code",
   "execution_count": 1,
   "id": "d45b7b22",
   "metadata": {},
   "outputs": [
    {
     "name": "stderr",
     "output_type": "stream",
     "text": [
      "/Users/matija/.venv/fmf-qrisp/lib/python3.9/site-packages/urllib3/__init__.py:35: NotOpenSSLWarning: urllib3 v2 only supports OpenSSL 1.1.1+, currently the 'ssl' module is compiled with 'LibreSSL 2.8.3'. See: https://github.com/urllib3/urllib3/issues/3020\n",
      "  warnings.warn(\n"
     ]
    }
   ],
   "source": [
    "import qrisp"
   ]
  },
  {
   "cell_type": "markdown",
   "id": "f19c225c",
   "metadata": {},
   "source": [
    "## Četrtek: Deutsch-Jozsev algoritem"
   ]
  },
  {
   "cell_type": "markdown",
   "id": "17d4063b",
   "metadata": {},
   "source": [
    "V običajnem programiranju poznamo osnovna orodja, s katerimi pišemo programe, na primer zanke ali pogojni stavki. Kvantno računalništvo uvaja popolnoma nove načine programiranja, na primer superpozicijo, s katero računalnik računa z več vrednostmi naenkrat, ali interferenco, s katero izničnimo neželene možnosti. Ta nova orodja bomo spoznali pri pisanju svojega prvega kvantnega algoritma."
   ]
  }
 ],
 "metadata": {
  "kernelspec": {
   "display_name": "fmf-qrisp",
   "language": "python",
   "name": "python3"
  },
  "language_info": {
   "codemirror_mode": {
    "name": "ipython",
    "version": 3
   },
   "file_extension": ".py",
   "mimetype": "text/x-python",
   "name": "python",
   "nbconvert_exporter": "python",
   "pygments_lexer": "ipython3",
   "version": "3.9.6"
  }
 },
 "nbformat": 4,
 "nbformat_minor": 5
}
