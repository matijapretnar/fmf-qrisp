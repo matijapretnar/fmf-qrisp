{
 "cells": [
  {
   "cell_type": "markdown",
   "id": "38019d39",
   "metadata": {},
   "source": [
    "# Qrisp"
   ]
  },
  {
   "cell_type": "code",
   "execution_count": 9,
   "id": "81b7e29f",
   "metadata": {},
   "outputs": [],
   "source": [
    "import qrisp"
   ]
  },
  {
   "cell_type": "markdown",
   "id": "1ca8cb67",
   "metadata": {},
   "source": [
    "## 1. ura\n",
    "\n",
    "- zgodovina prehoda klasičnega računalništva od pretikanja kablov do danes, vzporednice s trenutnim stanjem kvantnih računalnikov\n",
    "- odprejo online Jupyter z nameščenim Qrispom in poženejo testni primer\n",
    "- osnovni koraki v Qrispu, zapis vezij prek spremenljivk in funkcij, meritve, …\n",
    "- Qrisp preizkusijo na vezjih, ki so jih do sedaj videli na šoli ter to primerjajo s pisanjem/risanjem v Qiskitu"
   ]
  },
  {
   "cell_type": "markdown",
   "id": "61eb905e",
   "metadata": {},
   "source": [
    "\n",
    "## 2. ura\n",
    "\n",
    "- prikaz dodatnih kvantnih tipov (`QuantumBool`, `QuantumInt`, `QuantumFloat`, …), operacij na njih, ter izračunanih vezij\n",
    "- v Qrispu pišejo svoje račune in kratke programe ter gledajo, kakšna vezja dobijo\n",
    "- pisanje kvantnih funkcij in samodejno dodajanje ancile, razračunanja, preklapljanje med implementacijami seštevalnikov, …\n",
    "- pišejo svoje funkcije, simulirajo rezultate, in opazujejo ustvarjena vezja\n",
    "- skupaj napišemo svoj lastni kvantni tip, npr. vržemo dve kvantni kocki in dobimo superpozicijo možnih vsot, pri obratu faze pa se nekateri izničijo"
   ]
  },
  {
   "cell_type": "markdown",
   "id": "474d1d1c",
   "metadata": {},
   "source": [
    "## 3. ura\n",
    "\n",
    "- motivacija Deutsch-Joszevega problema prek igrice, kjer poskušajo s čim manj vprašanji ugotoviti, kakšne vrste število sem si izmislil\n",
    "- dopolnijo predlogo klasično rešitve v Pythonu ter v njej preizkušajo različne funkcije (konstantno, levi-desni biti, sodi-lihi biti, …)\n",
    "- prepis klasične rešitve v Qrisp in preizkus z različnimi funkcijami (tu in po vsakem od naslednjih korakov do algoritma)\n",
    "- skupaj pridemo do tega, da bi računali s superpozicijami, zato vhodne kubite pripravimo s Hadamardom"
   ]
  },
  {
   "cell_type": "markdown",
   "id": "8d2970d1",
   "metadata": {},
   "source": [
    "## 4. ura\n",
    "\n",
    "- spomnimo se, da je s ponovno uporabo Hadamarda treba povrniti vhodne kubite\n",
    "- skupaj pridemo do tega, da želimo vrednosti izničiti, zato izhodni kubit pripravimo s Hadamardom\n",
    "- kaj so naslednji koraki v programiranju (Bernstein-Vazirani, QPE, Grover, Shor, kvantne simulacije, …)"
   ]
  },
  {
   "cell_type": "code",
   "execution_count": 1,
   "id": "40728556",
   "metadata": {},
   "outputs": [
    {
     "name": "stderr",
     "output_type": "stream",
     "text": [
      "/Users/matija/.venv/fmf-qrisp/lib/python3.9/site-packages/urllib3/__init__.py:35: NotOpenSSLWarning: urllib3 v2 only supports OpenSSL 1.1.1+, currently the 'ssl' module is compiled with 'LibreSSL 2.8.3'. See: https://github.com/urllib3/urllib3/issues/3020\n",
      "  warnings.warn(\n"
     ]
    }
   ],
   "source": [
    "import qrisp"
   ]
  },
  {
   "cell_type": "code",
   "execution_count": 101,
   "id": "034e4e84",
   "metadata": {},
   "outputs": [
    {
     "name": "stdout",
     "output_type": "stream",
     "text": [
      "QuantumCircuit:\n",
      "---------------\n",
      "                  ┌───┐     ┌────────────┐┌────────────┐                    »\n",
      "             n.0: ┤ H ├─────┤0           ├┤0           ├────────────────────»\n",
      "                  ├───┤     │            ││            │                    »\n",
      "             n.1: ┤ H ├─────┤1           ├┤1           ├────────────────────»\n",
      "                  ├───┤     │            ││            │                    »\n",
      "             n.2: ┤ H ├─────┤2           ├┤2           ├────────────────────»\n",
      "                  ├───┤     │            ││            │                    »\n",
      "             n.3: ┤ H ├─────┤3 less_than ├┤3           ├────────────────────»\n",
      "                  ├───┤┌───┐│            ││            │               ┌───┐»\n",
      "             r.0: ┤ X ├┤ H ├┤            ├┤  less_than ├───────────────┤ X ├»\n",
      "                  └───┘└───┘│            ││            │┌───┐┌────────┐└─┬─┘»\n",
      "        lt_qbl.0: ──────────┤4           ├┤            ├┤ X ├┤0       ├──┼──»\n",
      "                            │            ││            │└───┘│        │  │  »\n",
      "    lt_ancilla.0: ──────────┤5           ├┤            ├─────┤        ├──┼──»\n",
      "                            └────────────┘│            │     │        │  │  »\n",
      "    lt_qbl_315.0: ────────────────────────┤4           ├─────┤1 pt2cx ├──┼──»\n",
      "                                          │            │     │        │  │  »\n",
      "lt_ancilla_316.0: ────────────────────────┤5           ├─────┤        ├──┼──»\n",
      "                                          └────────────┘     │        │  │  »\n",
      "       and_qbl.0: ───────────────────────────────────────────┤2       ├──■──»\n",
      "                                                             └────────┘     »\n",
      "«                                 ┌───────────────┐┌───────────────┐┌───┐\n",
      "«             n.0: ───────────────┤0              ├┤0              ├┤ H ├\n",
      "«                                 │               ││               │├───┤\n",
      "«             n.1: ───────────────┤1              ├┤1              ├┤ H ├\n",
      "«                                 │               ││               │├───┤\n",
      "«             n.2: ───────────────┤2              ├┤2              ├┤ H ├\n",
      "«                                 │               ││               │├───┤\n",
      "«             n.3: ───────────────┤3              ├┤3 less_than_dg ├┤ H ├\n",
      "«                                 │               ││               │└───┘\n",
      "«             r.0: ───────────────┤  less_than_dg ├┤               ├─────\n",
      "«                  ┌────────┐┌───┐│               ││               │     \n",
      "«        lt_qbl.0: ┤0       ├┤ X ├┤               ├┤4              ├─────\n",
      "«                  │        │└───┘│               ││               │     \n",
      "«    lt_ancilla.0: ┤        ├─────┤               ├┤5              ├─────\n",
      "«                  │        │     │               │└───────────────┘     \n",
      "«    lt_qbl_315.0: ┤1 pt2cx ├─────┤4              ├──────────────────────\n",
      "«                  │        │     │               │                      \n",
      "«lt_ancilla_316.0: ┤        ├─────┤5              ├──────────────────────\n",
      "«                  │        │     └───────────────┘                      \n",
      "«       and_qbl.0: ┤2       ├────────────────────────────────────────────\n",
      "«                  └────────┘                                            \n",
      "Live QuantumVariables:\n",
      "----------------------\n",
      "QuantumFloat n\n",
      "QuantumBool r\n",
      "{12: 0.5625, 8: 0.0625, 9: 0.0625, 10: 0.0625, 11: 0.0625, 13: 0.0625, 14: 0.0625, 15: 0.0625}\n"
     ]
    },
    {
     "name": "stderr",
     "output_type": "stream",
     "text": [
      "/Users/matija/.venv/fmf-qrisp/lib/python3.9/site-packages/qrisp/simulator/bi_arrays.py:1042: RuntimeWarning: divide by zero encountered in matmul\n",
      "  res.data = np.matmul(self.data, other.data).ravel()\n",
      "/Users/matija/.venv/fmf-qrisp/lib/python3.9/site-packages/qrisp/simulator/bi_arrays.py:1042: RuntimeWarning: overflow encountered in matmul\n",
      "  res.data = np.matmul(self.data, other.data).ravel()\n",
      "/Users/matija/.venv/fmf-qrisp/lib/python3.9/site-packages/qrisp/simulator/bi_arrays.py:1042: RuntimeWarning: invalid value encountered in matmul\n",
      "  res.data = np.matmul(self.data, other.data).ravel()\n"
     ]
    }
   ],
   "source": [
    "from qrisp import QuantumBool, QuantumFloat, h, cx, x, auto_uncompute\n",
    "\n",
    "N = 4\n",
    "\n",
    "\n",
    "@auto_uncompute\n",
    "def moja_funkcija(n, r):\n",
    "    # ostanek pri deljenju z dva\n",
    "    # cx(n[-1], r)\n",
    "\n",
    "    # konstantno 1\n",
    "    # x(r)\n",
    "\n",
    "    # konstantno 0\n",
    "    # pass\n",
    "\n",
    "    # manjši od 2^N / 2\n",
    "    # a = n < 2 ** (N - 1)\n",
    "    # cx(a, r)\n",
    "\n",
    "    # n ∈ [3, 2^N / 2 + 3) (ta bi tudi morala biti uravnotežena)\n",
    "    a = 3 <= n\n",
    "    b = n < 2 ** (N - 1) + 3\n",
    "    cx(a & b, r)\n",
    "\n",
    "\n",
    "n = QuantumFloat(N)\n",
    "n[:] = 0\n",
    "h(n)\n",
    "\n",
    "r = QuantumBool()\n",
    "r[:] = True\n",
    "h(r)\n",
    "\n",
    "moja_funkcija(n, r)\n",
    "\n",
    "h(n)\n",
    "print(n.qs)\n",
    "print(n)"
   ]
  },
  {
   "cell_type": "code",
   "execution_count": null,
   "id": "7e25d4c7",
   "metadata": {},
   "outputs": [],
   "source": []
  }
 ],
 "metadata": {
  "kernelspec": {
   "display_name": "fmf-qrisp",
   "language": "python",
   "name": "python3"
  },
  "language_info": {
   "codemirror_mode": {
    "name": "ipython",
    "version": 3
   },
   "file_extension": ".py",
   "mimetype": "text/x-python",
   "name": "python",
   "nbconvert_exporter": "python",
   "pygments_lexer": "ipython3",
   "version": "3.9.6"
  }
 },
 "nbformat": 4,
 "nbformat_minor": 5
}
